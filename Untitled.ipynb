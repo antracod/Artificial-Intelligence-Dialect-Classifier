{
 "cells": [
  {
   "cell_type": "code",
   "execution_count": null,
   "metadata": {},
   "outputs": [],
   "source": [
    "import numpy as np\n",
    "from sklearn.naive_bayes import GaussianNB"
   ]
  },
  {
   "cell_type": "code",
   "execution_count": null,
   "metadata": {},
   "outputs": [],
   "source": []
  },
  {
   "cell_type": "code",
   "execution_count": null,
   "metadata": {},
   "outputs": [],
   "source": []
  },
  {
   "cell_type": "code",
   "execution_count": null,
   "metadata": {},
   "outputs": [],
   "source": [
    "train_samples_txt = open(\"train_samples.txt\", encoding=\"utf8\")\n",
    "train_samples_lines = train_samples_txt.readlines()\n",
    "for idx,x in enumerate(train_samples_lines):\n",
    "    train_samples_lines[idx] = train_samples_lines[idx].partition('\\t')[2] \n",
    "    \n",
    "#Remove backslash N\n",
    "    \n",
    "train_labels_txt = open(\"train_labels.txt\", encoding=\"utf8\")\n",
    "train_labels_lines = train_labels_txt.readlines()\n",
    "for idx,x in enumerate(train_labels_lines):\n",
    "    train_labels_lines[idx] = train_labels_lines[idx].partition('\\t')[2] \n",
    "\n",
    "clf = GaussianNB()\n",
    "clf.fit(train_samples_lines, train_labels_lines)\n",
    "\n"
   ]
  },
  {
   "cell_type": "code",
   "execution_count": null,
   "metadata": {},
   "outputs": [],
   "source": []
  }
 ],
 "metadata": {
  "kernelspec": {
   "display_name": "Python 3",
   "language": "python",
   "name": "python3"
  },
  "language_info": {
   "codemirror_mode": {
    "name": "ipython",
    "version": 3
   },
   "file_extension": ".py",
   "mimetype": "text/x-python",
   "name": "python",
   "nbconvert_exporter": "python",
   "pygments_lexer": "ipython3",
   "version": "3.7.6"
  }
 },
 "nbformat": 4,
 "nbformat_minor": 4
}
